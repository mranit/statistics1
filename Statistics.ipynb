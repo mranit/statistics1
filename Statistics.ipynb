{
  "nbformat": 4,
  "nbformat_minor": 0,
  "metadata": {
    "colab": {
      "provenance": []
    },
    "kernelspec": {
      "name": "python3",
      "display_name": "Python 3"
    },
    "language_info": {
      "name": "python"
    }
  },
  "cells": [
    {
      "cell_type": "markdown",
      "source": [
        "# Statistics\n"
      ],
      "metadata": {
        "id": "lW59YKkqRo6L"
      }
    },
    {
      "cell_type": "code",
      "source": [
        "# Generate a list of 100 integers containing values between 90 to 130 and store it in the variable `int_list`.\n",
        "#After generating the list, find the following:\n",
        "import random\n",
        "\n",
        "# Generate a list of 100 integers between 90 and 130\n",
        "int_list = [random.randint(90, 130) for _ in range(100)]\n",
        "\n",
        "# Display the list\n",
        "int_list\n"
      ],
      "metadata": {
        "id": "-HGdXl_zZWEZ"
      },
      "execution_count": null,
      "outputs": []
    },
    {
      "cell_type": "code",
      "execution_count": 14,
      "metadata": {
        "colab": {
          "base_uri": "https://localhost:8080/"
        },
        "id": "hfEyxTe1RcNL",
        "outputId": "243fb1f0-9cce-4537-f856-81109e11f66f"
      },
      "outputs": [
        {
          "output_type": "stream",
          "name": "stdout",
          "text": [
            "Mean: 110.23\n",
            "Median: 111.0\n"
          ]
        }
      ],
      "source": [
        "#(i) Write a Python function to calculate the mean of a given list of numbers. Create a function to find the median of a list of numbers.\n",
        "def calculate_mean(numbers):\n",
        "\n",
        "    if not numbers:\n",
        "        raise ValueError(\"The list is empty.\")\n",
        "    return sum(numbers) / len(numbers)\n",
        "\n",
        "\n",
        "def calculate_median(numbers):\n",
        "\n",
        "    if not numbers:\n",
        "        raise ValueError(\"The list is empty.\")\n",
        "\n",
        "    sorted_numbers = sorted(numbers)\n",
        "    n = len(sorted_numbers)\n",
        "    mid = n // 2\n",
        "\n",
        "    if n % 2 == 0:\n",
        "        return (sorted_numbers[mid - 1] + sorted_numbers[mid]) / 2\n",
        "    else:\n",
        "        return sorted_numbers[mid]\n",
        "# Define 'numbers' before calling the functions\n",
        "numbers = int_list\n",
        "\n",
        "#Now call the function with numbers\n",
        "mean = calculate_mean(numbers)\n",
        "median = calculate_median(numbers)\n",
        "\n",
        "print(f\"Mean: {mean}\")\n",
        "print(f\"Median: {median}\")"
      ]
    },
    {
      "cell_type": "code",
      "source": [
        "#Develop a program to compute the mode of a list of integers.\n",
        "from collections import Counter\n",
        "\n",
        "def calculate_mode(numbers):\n",
        "\n",
        "    if not numbers:\n",
        "        raise ValueError(\"The list is empty.\")\n",
        "\n",
        "    frequency = Counter(numbers)  # Count the frequency of each number\n",
        "    max_frequency = max(frequency.values())  # Find the highest frequency\n",
        "\n",
        "    # Find all numbers with the highest frequency\n",
        "    modes = [key for key, count in frequency.items() if count == max_frequency]\n",
        "\n",
        "    # If all numbers are equally frequent, there is no mode\n",
        "    if len(modes) == len(frequency):\n",
        "        return []\n",
        "    return modes\n",
        "numbers1 = [1, 2, 2, 3, 4, 4, 4, 5]\n",
        "numbers2 = [10, 20, 30, 40]\n",
        "numbers3 = [1, 1, 2, 2, 3, 3]\n",
        "\n",
        "mode1 = calculate_mode(numbers1)\n",
        "mode2 = calculate_mode(numbers2)\n",
        "mode3 = calculate_mode(numbers3)\n",
        "\n",
        "print(f\"Mode of numbers1: {mode1}\")  # Output: [4]\n",
        "print(f\"Mode of numbers2: {mode2}\")  # Output: []\n",
        "print(f\"Mode of numbers3: {mode3}\")  # Output: []\n",
        ""
      ],
      "metadata": {
        "colab": {
          "base_uri": "https://localhost:8080/"
        },
        "id": "zEbptv2dTIZV",
        "outputId": "83f28cac-4fed-4d9c-f9df-fe4c136199d9"
      },
      "execution_count": 16,
      "outputs": [
        {
          "output_type": "stream",
          "name": "stdout",
          "text": [
            "Mode of numbers1: [4]\n",
            "Mode of numbers2: []\n",
            "Mode of numbers3: []\n"
          ]
        }
      ]
    },
    {
      "cell_type": "code",
      "source": [
        "\n",
        "\n",
        "\n",
        "\n",
        "\n",
        "\n",
        "\n",
        "\n",
        "\n",
        "\n",
        "\n",
        "\n",
        "\n",
        ""
      ],
      "metadata": {
        "id": "3rOhXFxQYN3T"
      },
      "execution_count": null,
      "outputs": []
    },
    {
      "cell_type": "code",
      "source": [
        "#(iii) Implement a function to calculate the weighted mean of a list of values and their corresponding weights.\n",
        "def calculate_weighted_mean(values, weights):\n",
        "    if not values or not weights or len(values) != len(weights):\n",
        "        raise ValueError(\"Values and weights must be non-empty lists of the same length.\")\n",
        "\n",
        "    weighted_sum = sum(v * w for v, w in zip(values, weights))\n",
        "    total_weight = sum(weights)\n",
        "\n",
        "    if total_weight == 0:\n",
        "        raise ValueError(\"Total weight must not be zero.\")\n",
        "\n",
        "    return weighted_sum / total_weight\n",
        "values = [10, 20, 30]\n",
        "weights = [1, 2, 3]\n",
        "weighted_mean = calculate_weighted_mean(values, weights)\n",
        "print(f\"Weighted Mean: {weighted_mean}\")\n"
      ],
      "metadata": {
        "colab": {
          "base_uri": "https://localhost:8080/"
        },
        "id": "eUXrIrX2YYsX",
        "outputId": "0f33a09d-2f90-4512-ca36-bbfb604eb7fb"
      },
      "execution_count": 8,
      "outputs": [
        {
          "output_type": "stream",
          "name": "stdout",
          "text": [
            "Weighted Mean: 23.333333333333332\n"
          ]
        }
      ]
    },
    {
      "cell_type": "code",
      "source": [
        "#(iv) Write a Python function to find the geometric mean of a list of positive numbers.\n",
        "import math\n",
        "\n",
        "def calculate_geometric_mean(numbers):\n",
        "    if not numbers or any(n <= 0 for n in numbers):\n",
        "        raise ValueError(\"All numbers must be positive.\")\n",
        "\n",
        "    product = math.prod(numbers)\n",
        "    return product ** (1 / len(numbers))\n",
        "numbers = [2, 8, 4]\n",
        "geometric_mean = calculate_geometric_mean(numbers)\n",
        "print(f\"Geometric Mean: {geometric_mean}\")\n"
      ],
      "metadata": {
        "colab": {
          "base_uri": "https://localhost:8080/"
        },
        "id": "iGBRI8SsYjjl",
        "outputId": "6a91c255-7b2b-452a-9f0a-79c9a5b92b98"
      },
      "execution_count": 9,
      "outputs": [
        {
          "output_type": "stream",
          "name": "stdout",
          "text": [
            "Geometric Mean: 3.9999999999999996\n"
          ]
        }
      ]
    },
    {
      "cell_type": "code",
      "source": [
        "#(v) Create a program to calculate the harmonic mean of a list of values.\n",
        "def calculate_harmonic_mean(numbers):\n",
        "    if not numbers or any(n <= 0 for n in numbers):\n",
        "        raise ValueError(\"All numbers must be positive.\")\n",
        "\n",
        "    n = len(numbers)\n",
        "    reciprocal_sum = sum(1 / x for x in numbers)\n",
        "    return n / reciprocal_sum\n",
        "numbers = [1, 2, 3]\n",
        "harmonic_mean = calculate_harmonic_mean(numbers)\n",
        "print(f\"Harmonic Mean: {harmonic_mean}\")\n"
      ],
      "metadata": {
        "colab": {
          "base_uri": "https://localhost:8080/"
        },
        "id": "20fMoxwAYsvE",
        "outputId": "0f74712c-84d0-4dfe-a63a-22291c28fc98"
      },
      "execution_count": 10,
      "outputs": [
        {
          "output_type": "stream",
          "name": "stdout",
          "text": [
            "Harmonic Mean: 1.6363636363636365\n"
          ]
        }
      ]
    },
    {
      "cell_type": "code",
      "source": [
        "#(vi) Build a function to determine the midrange of a list of numbers (average of the minimum and maximum).\n",
        "def calculate_midrange(numbers):\n",
        "    if not numbers:\n",
        "        raise ValueError(\"The list is empty.\")\n",
        "\n",
        "    return (min(numbers) + max(numbers)) / 2\n",
        "numbers = [1, 5, 9]\n",
        "midrange = calculate_midrange(numbers)\n",
        "print(f\"Midrange: {midrange}\")\n"
      ],
      "metadata": {
        "colab": {
          "base_uri": "https://localhost:8080/"
        },
        "id": "QMTi912lY4CP",
        "outputId": "46b5df76-5a32-46e9-cb7d-78026ed19f95"
      },
      "execution_count": 11,
      "outputs": [
        {
          "output_type": "stream",
          "name": "stdout",
          "text": [
            "Midrange: 5.0\n"
          ]
        }
      ]
    },
    {
      "cell_type": "code",
      "source": [
        "#(vii) Implement a Python program to find the trimmed mean of a list, excluding a certain percentage of\n",
        "#outliers.\n",
        "def calculate_trimmed_mean(numbers, trim_percentage):\n",
        "    if not numbers or not (0 <= trim_percentage <= 50):\n",
        "        raise ValueError(\"Invalid list or trim percentage. It must be between 0 and 50.\")\n",
        "\n",
        "    sorted_numbers = sorted(numbers)\n",
        "    n = len(numbers)\n",
        "    trim_count = int(n * (trim_percentage / 100))\n",
        "\n",
        "    trimmed_numbers = sorted_numbers[trim_count:n - trim_count]\n",
        "    return sum(trimmed_numbers) / len(trimmed_numbers)\n",
        "numbers = [1, 2, 3, 4, 5, 100]\n",
        "trim_percentage = 20\n",
        "trimmed_mean = calculate_trimmed_mean(numbers, trim_percentage)\n",
        "print(f\"Trimmed Mean: {trimmed_mean}\")\n"
      ],
      "metadata": {
        "colab": {
          "base_uri": "https://localhost:8080/"
        },
        "id": "WCfbw-IOZEGW",
        "outputId": "d4557f1d-211a-40a8-b651-4485211ef9a0"
      },
      "execution_count": 12,
      "outputs": [
        {
          "output_type": "stream",
          "name": "stdout",
          "text": [
            "Trimmed Mean: 3.5\n"
          ]
        }
      ]
    },
    {
      "cell_type": "markdown",
      "source": [
        " 2. Generate a list of 500 integers containing values between 200 to 300 and store it in the variable `int_list2`.\n",
        "After generating the list, find the following:"
      ],
      "metadata": {
        "id": "bnlbooUCaG8r"
      }
    },
    {
      "cell_type": "code",
      "source": [
        "# 2. Generate a list of 500 integers containing values between 200 to 300 and store it in the variable `int_list2`.\n",
        "#After generating the list, find the following:\n",
        "import random\n",
        "\n",
        "# Generate a list of 100 integers between 90 and 130\n",
        "int_list2 = [random.randint(90, 130) for _ in range(100)]\n",
        "\n",
        "# Display the list\n",
        "int_list2\n"
      ],
      "metadata": {
        "id": "WBUj3YGtaJkW"
      },
      "execution_count": null,
      "outputs": []
    },
    {
      "cell_type": "code",
      "source": [
        "# (i) Compare the given list of visualization for the given data:\n",
        "    #1. Frequency & Gaussian distribution\n",
        "    #2. Frequency smoothened KDE plot\n",
        "    #3. Gaussian distribution & smoothened KDE plot\n",
        "import matplotlib.pyplot as plt\n",
        "import seaborn as sns\n",
        "import numpy as np\n",
        "from scipy.stats import norm\n",
        "\n",
        "# Create a figure for visualization\n",
        "plt.figure(figsize=(16, 10))\n",
        "\n",
        "# (1) Frequency and Gaussian distribution\n",
        "plt.subplot(3, 1, 1)\n",
        "sns.histplot(int_list2, bins=20, kde=False, color='skyblue', stat=\"density\", label='Frequency')\n",
        "mean, std = np.mean(int_list2), np.std(int_list2)\n",
        "x = np.linspace(min(int_list2), max(int_list2), 1000)\n",
        "gaussian = norm.pdf(x, mean, std)\n",
        "plt.plot(x, gaussian, color='red', label='Gaussian Distribution')\n",
        "plt.title('Frequency & Gaussian Distribution')\n",
        "plt.legend()\n",
        "\n",
        "# (2) Frequency smoothened KDE plot\n",
        "plt.subplot(3, 1, 2)\n",
        "sns.histplot(int_list2, bins=20, kde=False, color='skyblue', stat=\"density\", label='Frequency')\n",
        "sns.kdeplot(int_list2, color='green', label='KDE', linewidth=2)\n",
        "plt.title('Frequency Smoothened KDE Plot')\n",
        "plt.legend()\n",
        "\n",
        "# (3) Gaussian distribution & smoothened KDE plot\n",
        "plt.subplot(3, 1, 3)\n",
        "sns.kdeplot(int_list2, color='green', label='KDE', linewidth=2)\n",
        "plt.plot(x, gaussian, color='red', label='Gaussian Distribution')\n",
        "plt.title('Gaussian Distribution & Smoothened KDE Plot')\n",
        "plt.legend()\n",
        "\n",
        "# Adjust layout and show plots\n",
        "plt.tight_layout()\n",
        "plt.show()\n"
      ],
      "metadata": {
        "colab": {
          "base_uri": "https://localhost:8080/",
          "height": 414
        },
        "id": "_aRt7du1aRhE",
        "outputId": "261d6f8e-9631-4670-c74e-a6655ce42818"
      },
      "execution_count": 20,
      "outputs": [
        {
          "output_type": "display_data",
          "data": {
            "text/plain": [
              "<Figure size 1600x1000 with 3 Axes>"
            ],
            "image/png": "[encoded data removed]"
          },
          "metadata": {}
        }
      ]
    },
    {
      "cell_type": "code",
      "source": [
        "numbers = [10, 20, 30, 40, 50]"
      ],
      "metadata": {
        "id": "5RNHmJlEbXEI"
      },
      "execution_count": 21,
      "outputs": []
    },
    {
      "cell_type": "code",
      "source": [
        "# (ii) Write a Python function to calculate the range of a given list of numbers\n",
        "def calculate_range(numbers):\n",
        "    \"\"\"\n",
        "    Calculate the range of a list of numbers.\n",
        "\n",
        "    :param numbers: List of numbers\n",
        "    :return: Range (maximum - minimum)\n",
        "    \"\"\"\n",
        "    if not numbers:\n",
        "        raise ValueError(\"The list is empty.\")\n",
        "    return max(numbers) - min(numbers)\n",
        "print(\"Range:\", calculate_range(numbers))"
      ],
      "metadata": {
        "colab": {
          "base_uri": "https://localhost:8080/"
        },
        "id": "hmpuZ6wua3Y7",
        "outputId": "93e18b0c-70d7-4cc9-80f4-e11fda6a0d54"
      },
      "execution_count": 22,
      "outputs": [
        {
          "output_type": "stream",
          "name": "stdout",
          "text": [
            "Range: 40\n"
          ]
        }
      ]
    },
    {
      "cell_type": "code",
      "source": [
        "# (iii) Create a program to find the variance and standard deviation of a list of numbers.\n",
        "def calculate_variance_and_std(numbers):\n",
        "    \"\"\"\n",
        "    Calculate the variance and standard deviation of a list of numbers.\n",
        "\n",
        "    :param numbers: List of numbers\n",
        "    :return: Variance and standard deviation\n",
        "    \"\"\"\n",
        "    if not numbers:\n",
        "        raise ValueError(\"The list is empty.\")\n",
        "\n",
        "    mean = sum(numbers) / len(numbers)\n",
        "    variance = sum((x - mean) ** 2 for x in numbers) / len(numbers)\n",
        "    std_dev = variance ** 0.5\n",
        "    return variance, std_dev\n",
        "variance, std_dev = calculate_variance_and_std(numbers)\n",
        "print(\"Variance:\", variance)\n",
        "print(\"Standard Deviation:\", std_dev)"
      ],
      "metadata": {
        "colab": {
          "base_uri": "https://localhost:8080/"
        },
        "id": "F-nxkOHsbBHC",
        "outputId": "593790c4-b172-4ee3-a0d5-796b4415560f"
      },
      "execution_count": 24,
      "outputs": [
        {
          "output_type": "stream",
          "name": "stdout",
          "text": [
            "Variance: 200.0\n",
            "Standard Deviation: 14.142135623730951\n"
          ]
        }
      ]
    },
    {
      "cell_type": "code",
      "source": [
        "#  (iv) Implement a function to compute the interquartile range (IQR) of a list of values.\n",
        "def calculate_iqr(numbers):\n",
        "    \"\"\"\n",
        "    Calculate the interquartile range (IQR) of a list of numbers.\n",
        "\n",
        "    :param numbers: List of numbers\n",
        "    :return: IQR (Q3 - Q1)\n",
        "    \"\"\"\n",
        "    if not numbers:\n",
        "        raise ValueError(\"The list is empty.\")\n",
        "\n",
        "    sorted_numbers = sorted(numbers)\n",
        "    n = len(sorted_numbers)\n",
        "\n",
        "    q1 = np.percentile(sorted_numbers, 25)\n",
        "    q3 = np.percentile(sorted_numbers, 75)\n",
        "    return q3 - q1\n",
        "print(\"Interquartile Range (IQR):\", calculate_iqr(numbers))"
      ],
      "metadata": {
        "colab": {
          "base_uri": "https://localhost:8080/"
        },
        "id": "KV8kQBZ8bBDq",
        "outputId": "0ca77a14-09c4-4fd3-b7a0-2a09ee1e2526"
      },
      "execution_count": 25,
      "outputs": [
        {
          "output_type": "stream",
          "name": "stdout",
          "text": [
            "Interquartile Range (IQR): 20.0\n"
          ]
        }
      ]
    },
    {
      "cell_type": "code",
      "source": [
        "#(v) Build a program to calculate the coefficient of variation for a dataset.\n",
        "def calculate_coefficient_of_variation(numbers):\n",
        "    \"\"\"\n",
        "    Calculate the coefficient of variation for a dataset.\n",
        "\n",
        "    :param numbers: List of numbers\n",
        "    :return: Coefficient of variation\n",
        "    \"\"\"\n",
        "    if not numbers:\n",
        "        raise ValueError(\"The list is empty.\")\n",
        "\n",
        "    mean = sum(numbers) / len(numbers)\n",
        "    variance, std_dev = calculate_variance_and_std(numbers)\n",
        "    return (std_dev / mean) * 100  # Percentage\n",
        "print(\"Coefficient of Variation:\", calculate_coefficient_of_variation(numbers))\n"
      ],
      "metadata": {
        "colab": {
          "base_uri": "https://localhost:8080/"
        },
        "id": "sLmhTphtbBAu",
        "outputId": "c0d36441-f08b-4087-f4bf-24d6a1c7bddc"
      },
      "execution_count": 26,
      "outputs": [
        {
          "output_type": "stream",
          "name": "stdout",
          "text": [
            "Coefficient of Variation: 47.14045207910317\n"
          ]
        }
      ]
    },
    {
      "cell_type": "code",
      "source": [
        "#(vi) Write a Python function to find the mean absolute deviation (MAD) of a list of numbers.\n",
        "def calculate_mad(numbers):\n",
        "    \"\"\"\n",
        "    Calculate the mean absolute deviation (MAD) of a list of numbers.\n",
        "\n",
        "    :param numbers: List of numbers\n",
        "    :return: MAD\n",
        "    \"\"\"\n",
        "    if not numbers:\n",
        "        raise ValueError(\"The list is empty.\")\n",
        "\n",
        "    mean = sum(numbers) / len(numbers)\n",
        "    return sum(abs(x - mean) for x in numbers) / len(numbers)\n",
        "print(\"Mean Absolute Deviation (MAD):\", calculate_mad(numbers))\n"
      ],
      "metadata": {
        "colab": {
          "base_uri": "https://localhost:8080/"
        },
        "id": "NCFqPSjVbA6F",
        "outputId": "1c292dc0-33e3-4df0-b55a-8cfc7cb875a6"
      },
      "execution_count": 27,
      "outputs": [
        {
          "output_type": "stream",
          "name": "stdout",
          "text": [
            "Mean Absolute Deviation (MAD): 12.0\n"
          ]
        }
      ]
    },
    {
      "cell_type": "code",
      "source": [
        "#  (vii) Create a program to calculate the quartile deviation of a list of values.\n",
        "def calculate_quartile_deviation(numbers):\n",
        "    \"\"\"\n",
        "    Calculate the quartile deviation of a list of numbers.\n",
        "\n",
        "    :param numbers: List of numbers\n",
        "    :return: Quartile deviation\n",
        "    \"\"\"\n",
        "    if not numbers:\n",
        "        raise ValueError(\"The list is empty.\")\n",
        "\n",
        "    iqr = calculate_iqr(numbers)\n",
        "    return iqr / 2\n",
        "print(\"Quartile Deviation:\", calculate_quartile_deviation(numbers))"
      ],
      "metadata": {
        "colab": {
          "base_uri": "https://localhost:8080/"
        },
        "id": "vg2tz4hLbAG4",
        "outputId": "96fe85d2-00c3-456e-e8e8-2051f0502e22"
      },
      "execution_count": 28,
      "outputs": [
        {
          "output_type": "stream",
          "name": "stdout",
          "text": [
            "Quartile Deviation: 10.0\n"
          ]
        }
      ]
    },
    {
      "cell_type": "code",
      "source": [
        "#  (viii) Implement a function to find the range-based coefficient of dispersion for a da\n",
        "def calculate_range_based_dispersion(numbers):\n",
        "    \"\"\"\n",
        "    Calculate the range-based coefficient of dispersion for a dataset.\n",
        "\n",
        "    :param numbers: List of numbers\n",
        "    :return: Coefficient of dispersion\n",
        "    \"\"\"\n",
        "    if not numbers:\n",
        "        raise ValueError(\"The list is empty.\")\n",
        "\n",
        "    max_val, min_val = max(numbers), min(numbers)\n",
        "    return (max_val - min_val) / (max_val + min_val)\n",
        "print(\"Range-Based Coefficient of Dispersion:\", calculate_range_based_dispersion(numbers))"
      ],
      "metadata": {
        "colab": {
          "base_uri": "https://localhost:8080/"
        },
        "id": "ovHOczWJa_9i",
        "outputId": "e1a11ea5-af47-45b8-8b37-e9bb1ba96936"
      },
      "execution_count": 29,
      "outputs": [
        {
          "output_type": "stream",
          "name": "stdout",
          "text": [
            "Range-Based Coefficient of Dispersion: 0.6666666666666666\n"
          ]
        }
      ]
    },
    {
      "cell_type": "code",
      "source": [
        "#3 Write a Python class representing a discrete random variable with methods to calculate its expected\n",
        "#value and variance.\n",
        "class DiscreteRandomVariable:\n",
        "    def __init__(self, values, probabilities):\n",
        "        \"\"\"\n",
        "        Initialize a discrete random variable.\n",
        "\n",
        "        :param values: List of possible values of the random variable\n",
        "        :param probabilities: List of probabilities corresponding to the values\n",
        "        \"\"\"\n",
        "        if not (len(values) == len(probabilities) and abs(sum(probabilities) - 1) < 1e-6):\n",
        "            raise ValueError(\"Values and probabilities must have the same length, and probabilities must sum to 1.\")\n",
        "        self.values = values\n",
        "        self.probabilities = probabilities\n",
        "\n",
        "    def expected_value(self):\n",
        "        \"\"\"Calculate the expected value (mean) of the random variable.\"\"\"\n",
        "        return sum(v * p for v, p in zip(self.values, self.probabilities))\n",
        "\n",
        "    def variance(self):\n",
        "        \"\"\"Calculate the variance of the random variable.\"\"\"\n",
        "        mean = self.expected_value()\n",
        "        return sum(p * (v - mean) ** 2 for v, p in zip(self.values, self.probabilities))\n",
        "values = [1, 2, 3, 4, 5, 6]\n",
        "probabilities = [1/6] * 6\n",
        "rv = DiscreteRandomVariable(values, probabilities)\n",
        "print(\"Expected Value:\", rv.expected_value())\n",
        "print(\"Variance:\", rv.variance())\n"
      ],
      "metadata": {
        "colab": {
          "base_uri": "https://localhost:8080/"
        },
        "id": "3g98in6Ua_xA",
        "outputId": "3f049821-4ca3-403f-a67b-5b12eed6ff78"
      },
      "execution_count": 30,
      "outputs": [
        {
          "output_type": "stream",
          "name": "stdout",
          "text": [
            "Expected Value: 3.5\n",
            "Variance: 2.9166666666666665\n"
          ]
        }
      ]
    },
    {
      "cell_type": "code",
      "source": [
        "#4 Implement a program to simulate the rolling of a fair six-sided die and calculate the expected value and\n",
        "#variance of the outcomes.\n",
        "import random\n",
        "\n",
        "def simulate_die_rolls(n_rolls):\n",
        "    \"\"\"\n",
        "    Simulate rolling a fair six-sided die and calculate expected value and variance.\n",
        "\n",
        "    :param n_rolls: Number of rolls\n",
        "    :return: Expected value and variance\n",
        "    \"\"\"\n",
        "    outcomes = [random.randint(1, 6) for _ in range(n_rolls)]\n",
        "    mean = sum(outcomes) / n_rolls\n",
        "    variance = sum((x - mean) ** 2 for x in outcomes) / n_rolls\n",
        "    return mean, variance\n",
        "\n",
        "# Example\n",
        "mean, variance = simulate_die_rolls(1000)\n",
        "print(\"Simulated Expected Value:\", mean)\n",
        "print(\"Simulated Variance:\", variance)\n"
      ],
      "metadata": {
        "colab": {
          "base_uri": "https://localhost:8080/"
        },
        "id": "G3Ht8ka2fMj4",
        "outputId": "50322095-8243-473b-c3b3-45bb5a9e9e66"
      },
      "execution_count": 31,
      "outputs": [
        {
          "output_type": "stream",
          "name": "stdout",
          "text": [
            "Simulated Expected Value: 3.491\n",
            "Simulated Variance: 2.9079190000000295\n"
          ]
        }
      ]
    },
    {
      "cell_type": "code",
      "source": [
        "#5.Create a Python function to generate random samples from a given probability distribution (e.g.,\n",
        "#binomial, Poisson) and calculate their mean and variance\n",
        "import numpy as np\n",
        "\n",
        "def generate_random_samples(distribution, params, size=1000):\n",
        "    \"\"\"\n",
        "    Generate random samples from a given probability distribution.\n",
        "\n",
        "    :param distribution: Distribution type (e.g., 'binomial', 'poisson')\n",
        "    :param params: Parameters of the distribution\n",
        "    :param size: Number of samples to generate\n",
        "    :return: Mean and variance of the samples\n",
        "    \"\"\"\n",
        "    if distribution == 'binomial':\n",
        "        samples = np.random.binomial(params['n'], params['p'], size)\n",
        "    elif distribution == 'poisson':\n",
        "        samples = np.random.poisson(params['lambda'], size)\n",
        "    else:\n",
        "        raise ValueError(\"Unsupported distribution type.\")\n",
        "\n",
        "    mean = np.mean(samples)\n",
        "    variance = np.var(samples)\n",
        "    return mean, variance\n",
        "\n",
        "# Example for binomial distribution\n",
        "mean, variance = generate_random_samples('binomial', {'n': 10, 'p': 0.5}, 1000)\n",
        "print(\"Binomial Distribution Mean:\", mean)\n",
        "print(\"Binomial Distribution Variance:\", variance)\n",
        "\n",
        "# Example for Poisson distribution\n",
        "mean, variance = generate_random_samples('poisson', {'lambda': 5}, 1000)\n",
        "print(\"Poisson Distribution Mean:\", mean)\n",
        "print(\"Poisson Distribution Variance:\", variance)\n"
      ],
      "metadata": {
        "colab": {
          "base_uri": "https://localhost:8080/"
        },
        "id": "-SsgGPk1fMgp",
        "outputId": "c8ba9751-5549-4e72-e0f1-775df1e8e541"
      },
      "execution_count": 33,
      "outputs": [
        {
          "output_type": "stream",
          "name": "stdout",
          "text": [
            "Binomial Distribution Mean: 5.036\n",
            "Binomial Distribution Variance: 2.842704\n",
            "Poisson Distribution Mean: 4.97\n",
            "Poisson Distribution Variance: 5.1431000000000004\n"
          ]
        }
      ]
    },
    {
      "cell_type": "code",
      "source": [
        "#6.Write a Python script to generate random numbers from a Gaussian (normal) distribution and compute\n",
        "#the mean, variance, and standard deviation of the samples\n",
        "def simulate_gaussian_samples(mean, std_dev, size=1000):\n",
        "    \"\"\"\n",
        "    Generate random numbers from a Gaussian distribution and compute statistics.\n",
        "\n",
        "    :param mean: Mean of the Gaussian distribution\n",
        "    :param std_dev: Standard deviation of the Gaussian distribution\n",
        "    :param size: Number of samples to generate\n",
        "    :return: Mean, variance, and standard deviation of the samples\n",
        "    \"\"\"\n",
        "    samples = np.random.normal(mean, std_dev, size)\n",
        "    sample_mean = np.mean(samples)\n",
        "    sample_variance = np.var(samples)\n",
        "    sample_std_dev = np.std(samples)\n",
        "    return sample_mean, sample_variance, sample_std_dev\n",
        "\n",
        "# Example\n",
        "mean, variance, std_dev = simulate_gaussian_samples(0, 1, 1000)\n",
        "print(\"Gaussian Distribution Mean:\", mean)\n",
        "print(\"Gaussian Distribution Variance:\", variance)\n",
        "print(\"Gaussian Distribution Standard Deviation:\", std_dev)\n"
      ],
      "metadata": {
        "colab": {
          "base_uri": "https://localhost:8080/"
        },
        "id": "z662iATbfMd3",
        "outputId": "f39ef169-63e3-4e52-c08d-1f8addf72974"
      },
      "execution_count": 32,
      "outputs": [
        {
          "output_type": "stream",
          "name": "stdout",
          "text": [
            "Gaussian Distribution Mean: -0.03048326824982602\n",
            "Gaussian Distribution Variance: 0.9527640044298324\n",
            "Gaussian Distribution Standard Deviation: 0.9760963089930381\n"
          ]
        }
      ]
    },
    {
      "cell_type": "code",
      "source": [
        "#7.\n",
        "#import seaborn as sns\n",
        "import pandas as pd\n",
        "import numpy as np\n",
        "import matplotlib.pyplot as plt\n",
        "\n",
        "# Load the tips dataset\n",
        "tips = sns.load_dataset(\"tips\")\n",
        "\n",
        "# (i) Function to calculate skewness\n",
        "def calculate_skewness(column):\n",
        "    return column.skew()\n",
        "\n",
        "# (ii) Determine skewness type\n",
        "def skewness_type(column):\n",
        "    skew = calculate_skewness(column)\n",
        "    if skew > 0:\n",
        "        return \"Positive Skewness\"\n",
        "    elif skew < 0:\n",
        "        return \"Negative Skewness\"\n",
        "    else:\n",
        "        return \"Approximately Symmetric\"\n",
        "\n",
        "# (iii) Function to calculate covariance\n",
        "def calculate_covariance(column1, column2):\n",
        "    return np.cov(column1, column2, ddof=0)[0, 1]\n",
        "\n",
        "# (iv) Pearson correlation coefficient\n",
        "def calculate_pearson_correlation(column1, column2):\n",
        "    return column1.corr(column2)\n",
        "\n",
        "# (v) Visualize correlation using scatter plot\n",
        "def plot_scatter(column1, column2):\n",
        "    plt.figure(figsize=(8, 6))\n",
        "    sns.scatterplot(x=column1, y=column2, data=tips, color='blue')\n",
        "    plt.title(f\"Scatter Plot of {column1} vs {column2}\")\n",
        "    plt.xlabel(column1)\n",
        "    plt.ylabel(column2)\n",
        "    plt.grid()\n",
        "    plt.show()\n",
        "\n",
        "# Example usage\n",
        "total_bill = tips['total_bill']\n",
        "tip = tips['tip']\n",
        "\n",
        "# Skewness calculations\n",
        "print(\"Total Bill Skewness:\", calculate_skewness(total_bill))\n",
        "print(\"Tip Skewness:\", calculate_skewness(tip))\n",
        "print(\"Total Bill Skewness Type:\", skewness_type(total_bill))\n",
        "print(\"Tip Skewness Type:\", skewness_type(tip))\n",
        "\n",
        "# Covariance\n",
        "print(\"Covariance between Total Bill and Tip:\", calculate_covariance(total_bill, tip))\n",
        "\n",
        "# Pearson correlation\n",
        "print(\"Pearson Correlation between Total Bill and Tip:\", calculate_pearson_correlation(total_bill, tip))\n",
        "\n",
        "# Scatter plot\n",
        "plot_scatter('total_bill', 'tip')\n"
      ],
      "metadata": {
        "colab": {
          "base_uri": "https://localhost:8080/",
          "height": 631
        },
        "id": "vm2nEdIVfMbC",
        "outputId": "145af720-3090-4a39-b34e-1b9b4e972e99"
      },
      "execution_count": 34,
      "outputs": [
        {
          "output_type": "stream",
          "name": "stdout",
          "text": [
            "Total Bill Skewness: 1.1332130376158205\n",
            "Tip Skewness: 1.4654510370979401\n",
            "Total Bill Skewness Type: Positive Skewness\n",
            "Tip Skewness Type: Positive Skewness\n",
            "Covariance between Total Bill and Tip: 8.28938891762967\n",
            "Pearson Correlation between Total Bill and Tip: 0.6757341092113641\n"
          ]
        },
        {
          "output_type": "display_data",
          "data": {
            "text/plain": [
              "<Figure size 800x600 with 1 Axes>"
            ],
            "image/png": "[encoded data removed]"
          },
          "metadata": {}
        }
      ]
    },
    {
      "cell_type": "code",
      "source": [
        "#(8) Write a Python function to calculate the probability density function (PDF) of a continuous random\n",
        "#variable for a given normal distribution\n",
        "import math\n",
        "\n",
        "def normal_pdf(x, mean, std_dev):\n",
        "    \"\"\"\n",
        "    Calculate the Probability Density Function (PDF) for a normal distribution.\n",
        "\n",
        "    Parameters:\n",
        "    x (float): The point at which to evaluate the PDF.\n",
        "    mean (float): The mean (μ) of the normal distribution.\n",
        "    std_dev (float): The standard deviation (σ) of the normal distribution.\n",
        "\n",
        "    Returns:\n",
        "    float: The PDF value at x.\n",
        "    \"\"\"\n",
        "    if std_dev <= 0:\n",
        "        raise ValueError(\"Standard deviation must be positive.\")\n",
        "\n",
        "    coefficient = 1 / (math.sqrt(2 * math.pi) * std_dev)\n",
        "    exponent = -((x - mean) ** 2) / (2 * (std_dev ** 2))\n",
        "    return coefficient * math.exp(exponent)\n",
        "\n",
        "# Example usage\n",
        "mean = 0\n",
        "std_dev = 1\n",
        "x = 1\n",
        "pdf_value = normal_pdf(x, mean, std_dev)\n",
        "print(f\"The PDF value at x = {x} for N({mean}, {std_dev}^2) is {pdf_value}\")\n",
        "\n"
      ],
      "metadata": {
        "colab": {
          "base_uri": "https://localhost:8080/"
        },
        "id": "0kKVbrEUfMYS",
        "outputId": "fc0cd3d9-6b67-4b12-d6fa-bbcfa0fbcf9f"
      },
      "execution_count": 35,
      "outputs": [
        {
          "output_type": "stream",
          "name": "stdout",
          "text": [
            "The PDF value at x = 1 for N(0, 1^2) is 0.24197072451914337\n"
          ]
        }
      ]
    },
    {
      "cell_type": "code",
      "source": [
        "#9) Create a program to calculate the cumulative distribution function (CDF) of exponential distribution.\n",
        "import math\n",
        "\n",
        "def exponential_cdf(x, rate):\n",
        "    \"\"\"\n",
        "    Calculate the Cumulative Distribution Function (CDF) for an exponential distribution.\n",
        "\n",
        "    Parameters:\n",
        "    x (float): The point at which to evaluate the CDF.\n",
        "    rate (float): The rate parameter (λ) of the exponential distribution (λ > 0).\n",
        "\n",
        "    Returns:\n",
        "    float: The CDF value at x.\n",
        "    \"\"\"\n",
        "    if rate <= 0:\n",
        "        raise ValueError(\"Rate parameter (λ) must be positive.\")\n",
        "    if x < 0:\n",
        "        return 0.0\n",
        "    return 1 - math.exp(-rate * x)\n",
        "\n",
        "# Example usage\n",
        "rate = 1.5  # λ\n",
        "x = 2\n",
        "cdf_value = exponential_cdf(x, rate)\n",
        "print(f\"The CDF value at x = {x} for exponential distribution with λ = {rate} is {cdf_value:.4f}\")\n"
      ],
      "metadata": {
        "colab": {
          "base_uri": "https://localhost:8080/"
        },
        "id": "WGzcDeCBfMUJ",
        "outputId": "3e6ee7cb-da92-4818-cf4c-a98886b1bb9c"
      },
      "execution_count": 36,
      "outputs": [
        {
          "output_type": "stream",
          "name": "stdout",
          "text": [
            "The CDF value at x = 2 for exponential distribution with λ = 1.5 is 0.9502\n"
          ]
        }
      ]
    },
    {
      "cell_type": "code",
      "source": [
        "#(10)Write a Python function to calculate the probability mass function (PMF) of Poisson distribution.\n",
        "import math\n",
        "\n",
        "def poisson_pmf(k, rate):\n",
        "    \"\"\"\n",
        "    Calculate the Probability Mass Function (PMF) for a Poisson distribution.\n",
        "\n",
        "    Parameters:\n",
        "    k (int): The number of occurrences (k >= 0).\n",
        "    rate (float): The mean number of occurrences (λ > 0).\n",
        "\n",
        "    Returns:\n",
        "    float: The PMF value for k occurrences.\n",
        "    \"\"\"\n",
        "    if rate <= 0:\n",
        "        raise ValueError(\"Rate parameter (λ) must be positive.\")\n",
        "    if k < 0 or not isinstance(k, int):\n",
        "        return 0.0\n",
        "    return (rate ** k * math.exp(-rate)) / math.factorial(k)\n",
        "\n",
        "# Example usage\n",
        "rate = 3  # λ\n",
        "k = 4\n",
        "pmf_value = poisson_pmf(k, rate)\n",
        "print(f\"The PMF value at k = {k} for Poisson distribution with λ = {rate} is {pmf_value:.4f}\")\n"
      ],
      "metadata": {
        "colab": {
          "base_uri": "https://localhost:8080/"
        },
        "id": "j6h48PM-fMQs",
        "outputId": "5b2ffcd9-b079-424c-e855-f9668e1619ab"
      },
      "execution_count": 37,
      "outputs": [
        {
          "output_type": "stream",
          "name": "stdout",
          "text": [
            "The PMF value at k = 4 for Poisson distribution with λ = 3 is 0.1680\n"
          ]
        }
      ]
    },
    {
      "cell_type": "code",
      "source": [
        "#(11) A company wants to test if a new website layout leads to a higher conversion rate (percentage of visitors\n",
        "#who make a purchase). They collect data from the old and new layouts to compare.\n",
        "import numpy as np\n",
        "from statsmodels.stats.proportion import proportions_ztest\n",
        "\n",
        "# Data\n",
        "old_layout = np.array([1] * 50 + [0] * 950)\n",
        "new_layout = np.array([1] * 70 + [0] * 930)\n",
        "\n",
        "# Calculate successes and trials\n",
        "successes = [sum(old_layout), sum(new_layout)]\n",
        "trials = [len(old_layout), len(new_layout)]\n",
        "\n",
        "# Perform z-test\n",
        "stat, p_value = proportions_ztest(successes, trials, alternative='larger')\n",
        "\n",
        "print(f\"Z-Test Statistic: {stat:.4f}\")\n",
        "print(f\"P-Value: {p_value:.4f}\")\n",
        "if p_value < 0.05:\n",
        "    print(\"The new layout leads to a significantly higher conversion rate.\")\n",
        "else:\n",
        "    print(\"The new layout does not lead to a significantly higher conversion rate.\")\n"
      ],
      "metadata": {
        "colab": {
          "base_uri": "https://localhost:8080/"
        },
        "id": "5QU9X597fMNY",
        "outputId": "c729b158-f752-4567-d6a3-f2425aeb728b"
      },
      "execution_count": 38,
      "outputs": [
        {
          "output_type": "stream",
          "name": "stdout",
          "text": [
            "Z-Test Statistic: -1.8831\n",
            "P-Value: 0.9702\n",
            "The new layout does not lead to a significantly higher conversion rate.\n"
          ]
        }
      ]
    },
    {
      "cell_type": "code",
      "source": [
        "#12) A tutoring service claims that its program improves students' exam scores. A sample of students who\n",
        "#participated in the program was taken, and their scores before and after the program were recorded\n",
        "import numpy as np\n",
        "from statsmodels.stats.weightstats import ztest\n",
        "\n",
        "\n",
        "# Data\n",
        "before_program = np.array([75, 80, 85, 70, 90, 78, 92, 88, 82, 87])\n",
        "after_program = np.array([80, 85, 90, 80, 92, 80, 95, 90, 85, 88])\n",
        "\n",
        "# Calculate the differences\n",
        "differences = after_program - before_program\n",
        "\n",
        "# Perform z-test\n",
        "stat, p_value = ztest(differences, value=0, alternative='larger')\n",
        "\n",
        "print(f\"Z-Test Statistic: {stat:.4f}\")\n",
        "print(f\"P-Value: {p_value:.4f}\")\n",
        "if p_value < 0.05:\n",
        "    print(\"The tutoring program significantly improves students' scores.\")\n",
        "else:\n",
        "    print(\"The tutoring program does not significantly improve students' scores.\")\n"
      ],
      "metadata": {
        "colab": {
          "base_uri": "https://localhost:8080/"
        },
        "id": "a7cFhQqUfMKi",
        "outputId": "008779e2-6d71-4348-ab3a-ce02bd5fb695"
      },
      "execution_count": 43,
      "outputs": [
        {
          "output_type": "stream",
          "name": "stdout",
          "text": [
            "Z-Test Statistic: 4.5932\n",
            "P-Value: 0.0000\n",
            "The tutoring program significantly improves students' scores.\n"
          ]
        }
      ]
    },
    {
      "cell_type": "code",
      "source": [],
      "metadata": {
        "id": "_hOIElKbjHbK"
      },
      "execution_count": null,
      "outputs": []
    },
    {
      "cell_type": "code",
      "source": [
        "#(13) A pharmaceutical company wants to determine if a new drug is effective in reducing blood pressure. They\n",
        "#conduct a study and record blood pressure measurements before and after administering the drug.\n",
        "import numpy as np\n",
        "from statsmodels.stats.weightstats import ztest\n",
        "\n",
        "\n",
        "# Data\n",
        "before_drug = np.array([145, 150, 140, 135, 155, 160, 152, 148, 130, 138])\n",
        "after_drug = np.array([130, 140, 132, 128, 145, 148, 138, 136, 125, 130])\n",
        "\n",
        "# Calculate the differences\n",
        "differences = before_drug - after_drug\n",
        "\n",
        "# Perform z-test\n",
        "stat, p_value = ztest(differences, value=0, alternative='larger')\n",
        "\n",
        "print(f\"Z-Test Statistic: {stat:.4f}\")\n",
        "print(f\"P-Value: {p_value:.4f}\")\n",
        "if p_value < 0.05:\n",
        "    print(\"The drug significantly reduces blood pressure.\")\n",
        "else:\n",
        "    print(\"The drug does not significantly reduce blood pressure.\")\n"
      ],
      "metadata": {
        "colab": {
          "base_uri": "https://localhost:8080/"
        },
        "id": "CZLO9DRPiIyU",
        "outputId": "e044b9ff-6e0e-42f8-924d-be717ef6db5c"
      },
      "execution_count": 44,
      "outputs": [
        {
          "output_type": "stream",
          "name": "stdout",
          "text": [
            "Z-Test Statistic: 10.0499\n",
            "P-Value: 0.0000\n",
            "The drug significantly reduces blood pressure.\n"
          ]
        }
      ]
    },
    {
      "cell_type": "code",
      "source": [
        "#14. A customer service department claims that their average response time is less than 5 minutes. A sample\n",
        "#of recent customer interactions was taken, and the response times were recorded.\n",
        "import numpy as np\n",
        "from statsmodels.stats.weightstats import ztest\n",
        "\n",
        "# Data\n",
        "response_times = np.array([4.3, 3.8, 5.1, 4.9, 4.7, 4.2, 5.2, 4.5, 4.6, 4.4])\n",
        "\n",
        "# Perform z-test\n",
        "stat, p_value = ztest(response_times, value=5, alternative='smaller')\n",
        "\n",
        "print(f\"Z-Test Statistic: {stat:.4f}\")\n",
        "print(f\"P-Value: {p_value:.4f}\")\n",
        "if p_value < 0.05:\n",
        "    print(\"The claim that the average response time is less than 5 minutes is supported.\")\n",
        "else:\n",
        "    print(\"The claim that the average response time is less than 5 minutes is not supported.\")\n"
      ],
      "metadata": {
        "colab": {
          "base_uri": "https://localhost:8080/"
        },
        "id": "eo7FC4WiiIuv",
        "outputId": "8992474c-41b3-405e-c4d4-9aee29d53263"
      },
      "execution_count": 45,
      "outputs": [
        {
          "output_type": "stream",
          "name": "stdout",
          "text": [
            "Z-Test Statistic: -3.1845\n",
            "P-Value: 0.0007\n",
            "The claim that the average response time is less than 5 minutes is supported.\n"
          ]
        }
      ]
    },
    {
      "cell_type": "code",
      "source": [
        "#15. A company is testing two different website layouts to see which one leads to higher click-through rates.\n",
        "#Write a Python function to perform an A/B test analysis, including calculating the t-statistic, degrees of\n",
        "#freedom, and p-value.\n",
        "from scipy.stats import ttest_ind\n",
        "\n",
        "# Data\n",
        "layout_a_clicks = [28, 32, 33, 29, 31, 34, 30, 35, 36, 37]\n",
        "layout_b_clicks = [40, 41, 38, 42, 39, 44, 43, 41, 45, 47]\n",
        "\n",
        "# Perform t-test\n",
        "stat, p_value = ttest_ind(layout_a_clicks, layout_b_clicks, alternative='less')\n",
        "\n",
        "print(f\"T-Test Statistic: {stat:.4f}\")\n",
        "print(f\"P-Value: {p_value:.4f}\")\n",
        "if p_value < 0.05:\n",
        "    print(\"Layout B has a significantly higher click-through rate than Layout A.\")\n",
        "else:\n",
        "    print(\"There is no significant difference between the click-through rates of Layout A and Layout B.\")\n"
      ],
      "metadata": {
        "colab": {
          "base_uri": "https://localhost:8080/"
        },
        "id": "OqqRf_Z2iIr2",
        "outputId": "7b279578-3df9-4298-e365-9b1873ea9c81"
      },
      "execution_count": 46,
      "outputs": [
        {
          "output_type": "stream",
          "name": "stdout",
          "text": [
            "T-Test Statistic: -7.2981\n",
            "P-Value: 0.0000\n",
            "Layout B has a significantly higher click-through rate than Layout A.\n"
          ]
        }
      ]
    },
    {
      "cell_type": "code",
      "source": [
        "#16. A pharmaceutical company wants to determine if a new drug is more effective than an existing drug in\n",
        "#reducing cholesterol levels. Create a program to analyze the clinical trial data and calculate the tstatistic and p-value for the treatment effect\n",
        "from scipy.stats import ttest_ind\n",
        "\n",
        "# Data\n",
        "existing_drug_levels = [180, 182, 175, 185, 178, 176, 172, 184, 179, 183]\n",
        "new_drug_levels = [170, 172, 165, 168, 175, 173, 170, 178, 172, 176]\n",
        "\n",
        "# Perform t-test\n",
        "stat, p_value = ttest_ind(existing_drug_levels, new_drug_levels, alternative='greater')\n",
        "\n",
        "print(f\"T-Test Statistic: {stat:.4f}\")\n",
        "print(f\"P-Value: {p_value:.4f}\")\n",
        "if p_value < 0.05:\n",
        "    print(\"The new drug is significantly more effective than the existing drug in reducing cholesterol.\")\n",
        "else:\n",
        "    print(\"The new drug is not significantly more effective than the existing drug in reducing cholesterol.\")\n"
      ],
      "metadata": {
        "colab": {
          "base_uri": "https://localhost:8080/"
        },
        "id": "wdsdGa9Ekydx",
        "outputId": "a6449dbd-06a4-4a12-bbca-503743ba8f44"
      },
      "execution_count": 47,
      "outputs": [
        {
          "output_type": "stream",
          "name": "stdout",
          "text": [
            "T-Test Statistic: 4.1405\n",
            "P-Value: 0.0003\n",
            "The new drug is significantly more effective than the existing drug in reducing cholesterol.\n"
          ]
        }
      ]
    },
    {
      "cell_type": "code",
      "source": [
        "#17. A school district introduces an educational intervention program to improve math scores. Write a Python\n",
        "#function to analyze pre- and post-intervention test scores, calculating the t-statistic and p-value to\n",
        "#determine if the intervention had a significant impact.\n",
        "from scipy.stats import ttest_rel\n",
        "\n",
        "# Data\n",
        "pre_intervention_scores = [80, 85, 90, 75, 88, 82, 92, 78, 85, 87]\n",
        "post_intervention_scores = [90, 92, 88, 92, 95, 91, 96, 93, 89, 93]\n",
        "\n",
        "# Perform paired t-test\n",
        "stat, p_value = ttest_rel(post_intervention_scores, pre_intervention_scores, alternative='greater')\n",
        "\n",
        "print(f\"T-Test Statistic: {stat:.4f}\")\n",
        "print(f\"P-Value: {p_value:.4f}\")\n",
        "if p_value < 0.05:\n",
        "    print(\"The intervention program significantly improved math scores.\")\n",
        "else:\n",
        "    print(\"The intervention program did not significantly improve math scores.\")\n"
      ],
      "metadata": {
        "colab": {
          "base_uri": "https://localhost:8080/"
        },
        "id": "D7KfbE1qiIf0",
        "outputId": "626c1da0-6991-4e3b-91ea-1903d64e8c55"
      },
      "execution_count": 48,
      "outputs": [
        {
          "output_type": "stream",
          "name": "stdout",
          "text": [
            "T-Test Statistic: 4.4284\n",
            "P-Value: 0.0008\n",
            "The intervention program significantly improved math scores.\n"
          ]
        }
      ]
    },
    {
      "cell_type": "code",
      "source": [
        "#18. An HR department wants to investigate if there's a gender-based salary gap within the company. Develop\n",
        "'''a program to analyze salary data, calculate the t-statistic, and determine if there's a statistically\n",
        "significant difference between the average salaries of male and female employees.'''\n",
        "import numpy as np\n",
        "from scipy.stats import ttest_ind\n",
        "\n",
        "# Generate synthetic salary data\n",
        "np.random.seed(0)\n",
        "male_salaries = np.random.normal(loc=50000, scale=10000, size=20)\n",
        "female_salaries = np.random.normal(loc=55000, scale=9000, size=20)\n",
        "\n",
        "# Perform t-test\n",
        "stat, p_value = ttest_ind(male_salaries, female_salaries)\n",
        "\n",
        "print(f\"T-Test Statistic: {stat:.4f}\")\n",
        "print(f\"P-Value: {p_value:.4f}\")\n",
        "if p_value < 0.05:\n",
        "    print(\"There is a statistically significant gender-based salary gap.\")\n",
        "else:\n",
        "    print(\"There is no statistically significant gender-based salary gap.\")\n"
      ],
      "metadata": {
        "colab": {
          "base_uri": "https://localhost:8080/"
        },
        "id": "6ai6A19ylQfp",
        "outputId": "001989cd-1132-4833-c8d9-e1d6b92386b7"
      },
      "execution_count": 49,
      "outputs": [
        {
          "output_type": "stream",
          "name": "stdout",
          "text": [
            "T-Test Statistic: 0.0611\n",
            "P-Value: 0.9516\n",
            "There is no statistically significant gender-based salary gap.\n"
          ]
        }
      ]
    },
    {
      "cell_type": "code",
      "source": [
        "'''19. A manufacturer produces two different versions of a product and wants to compare their quality scores.\n",
        "Create a Python function to analyze quality assessment data, calculate the t-statistic, and decide\n",
        "whether there's a significant difference in quality between the two versions.'''\n",
        "# Data\n",
        "version1_scores = [85, 88, 82, 89, 87, 84, 90, 88, 85, 86, 91, 83, 87, 84, 89, 86, 84, 88, 85, 86, 89, 90, 87, 88, 85]\n",
        "version2_scores = [80, 78, 83, 81, 79, 82, 76, 80, 78, 81, 77, 82, 80, 79, 82, 79, 80, 81, 79, 82, 79, 78, 80, 81, 82]\n",
        "\n",
        "# Perform t-test\n",
        "stat, p_value = ttest_ind(version1_scores, version2_scores)\n",
        "\n",
        "print(f\"T-Test Statistic: {stat:.4f}\")\n",
        "print(f\"P-Value: {p_value:.4f}\")\n",
        "if p_value < 0.05:\n",
        "    print(\"There is a significant difference in quality between the two versions.\")\n",
        "else:\n",
        "    print(\"There is no significant difference in quality between the two versions.\")\n"
      ],
      "metadata": {
        "colab": {
          "base_uri": "https://localhost:8080/"
        },
        "id": "gMlAk_walQWD",
        "outputId": "f7df0dda-a5f1-4036-e163-c7da22069c11"
      },
      "execution_count": 50,
      "outputs": [
        {
          "output_type": "stream",
          "name": "stdout",
          "text": [
            "T-Test Statistic: 11.3258\n",
            "P-Value: 0.0000\n",
            "There is a significant difference in quality between the two versions.\n"
          ]
        }
      ]
    },
    {
      "cell_type": "code",
      "source": [
        "''' 20. A restaurant chain collects customer satisfaction scores for two different branches. Write a program to\n",
        "analyze the scores, calculate the t-statistic, and determine if there's a statistically significant difference in\n",
        "customer satisfaction between the branches.'''\n",
        "# Data\n",
        "branch_a_scores = [4, 5, 3, 4, 5, 4, 5, 3, 4, 4, 5, 4, 4, 3, 4, 5, 5, 4, 3, 4, 5, 4, 3, 5, 4, 4, 5, 3, 4, 5, 4]\n",
        "branch_b_scores = [3, 4, 2, 3, 4, 3, 4, 2, 3, 3, 4, 3, 3, 2, 3, 4, 4, 3, 2, 3, 4, 3, 2, 4, 3, 3, 4, 2, 3, 4, 3]\n",
        "\n",
        "# Perform t-test\n",
        "stat, p_value = ttest_ind(branch_a_scores, branch_b_scores)\n",
        "\n",
        "print(f\"T-Test Statistic: {stat:.4f}\")\n",
        "print(f\"P-Value: {p_value:.4f}\")\n",
        "if p_value < 0.05:\n",
        "    print(\"There is a statistically significant difference in customer satisfaction between the branches.\")\n",
        "else:\n",
        "    print(\"There is no statistically significant difference in customer satisfaction between the branches.\")\n"
      ],
      "metadata": {
        "colab": {
          "base_uri": "https://localhost:8080/"
        },
        "id": "LdDsYPonlQKm",
        "outputId": "6696ff73-d776-4df8-b67e-13f305642a14"
      },
      "execution_count": 52,
      "outputs": [
        {
          "output_type": "stream",
          "name": "stdout",
          "text": [
            "T-Test Statistic: 5.4801\n",
            "P-Value: 0.0000\n",
            "There is a statistically significant difference in customer satisfaction between the branches.\n"
          ]
        }
      ]
    },
    {
      "cell_type": "code",
      "source": [
        "'''21. A political analyst wants to determine if there is a significant association between age groups and voter\n",
        "preferences (Candidate A or Candidate B). They collect data from a sample of 500 voters and classify\n",
        "them into different age groups and candidate preferences. Perform a Chi-Square test to determine if\n",
        "there is a significant association between age groups and voter preferences.'''\n",
        "import numpy as np\n",
        "from scipy.stats import chi2_contingency\n",
        "from collections import Counter\n",
        "\n",
        "# Generate synthetic data\n",
        "np.random.seed(0)\n",
        "age_groups = np.random.choice(['18-30', '31-50', '51+'], size=30)\n",
        "voter_preferences = np.random.choice(['Candidate A', 'Candidate B'], size=30)\n",
        "\n",
        "# Create a contingency table\n",
        "contingency_table = np.zeros((3, 2))\n",
        "age_map = {'18-30': 0, '31-50': 1, '51+': 2}\n",
        "preference_map = {'Candidate A': 0, 'Candidate B': 1}\n",
        "\n",
        "for age, preference in zip(age_groups, voter_preferences):\n",
        "    contingency_table[age_map[age], preference_map[preference]] += 1\n",
        "\n",
        "# Perform Chi-Square test\n",
        "chi2_stat, p_value, dof, expected = chi2_contingency(contingency_table)\n",
        "\n",
        "print(f\"Chi-Square Statistic: {chi2_stat:.4f}\")\n",
        "print(f\"P-Value: {p_value:.4f}\")\n",
        "print(f\"Degrees of Freedom: {dof}\")\n",
        "if p_value < 0.05:\n",
        "    print(\"There is a significant association between age groups and voter preferences.\")\n",
        "else:\n",
        "    print(\"There is no significant association between age groups and voter preferences.\")\n"
      ],
      "metadata": {
        "colab": {
          "base_uri": "https://localhost:8080/"
        },
        "id": "wNVOd9IOlQD7",
        "outputId": "014696b0-c7e8-4044-edac-90edafc842a8"
      },
      "execution_count": 51,
      "outputs": [
        {
          "output_type": "stream",
          "name": "stdout",
          "text": [
            "Chi-Square Statistic: 1.4402\n",
            "P-Value: 0.4867\n",
            "Degrees of Freedom: 2\n",
            "There is no significant association between age groups and voter preferences.\n"
          ]
        }
      ]
    },
    {
      "cell_type": "code",
      "source": [
        "''' 22. A company conducted a customer satisfaction survey to determine if there is a significant relationship\n",
        "between product satisfaction levels (Satisfied, Neutral, Dissatisfied) and the region where customers are\n",
        "located (East, West, North, South). The survey data is summarized in a contingency table. Conduct a ChiSquare test to determine if there is a significant relationship between product satisfaction levels and\n",
        "customer regions.'''\n",
        "import numpy as np\n",
        "from scipy.stats import chi2_contingency\n",
        "\n",
        "# Sample data: Satisfaction levels (rows) vs. Regions (columns)\n",
        "data = np.array([[50, 30, 40, 20], [30, 40, 30, 50], [20, 30, 40, 30]])\n",
        "\n",
        "# Perform Chi-Square test\n",
        "chi2_stat, p_value, dof, expected = chi2_contingency(data)\n",
        "\n",
        "print(f\"Chi-Square Statistic: {chi2_stat:.4f}\")\n",
        "print(f\"P-Value: {p_value:.4f}\")\n",
        "print(f\"Degrees of Freedom: {dof}\")\n",
        "if p_value < 0.05:\n",
        "    print(\"There is a significant relationship between product satisfaction levels and customer regions.\")\n",
        "else:\n",
        "    print(\"There is no significant relationship between product satisfaction levels and customer regions.\")\n"
      ],
      "metadata": {
        "colab": {
          "base_uri": "https://localhost:8080/"
        },
        "id": "z3QysJQgl885",
        "outputId": "40197c76-47e8-4464-e3ce-ecda51f640f4"
      },
      "execution_count": 53,
      "outputs": [
        {
          "output_type": "stream",
          "name": "stdout",
          "text": [
            "Chi-Square Statistic: 27.7771\n",
            "P-Value: 0.0001\n",
            "Degrees of Freedom: 6\n",
            "There is a significant relationship between product satisfaction levels and customer regions.\n"
          ]
        }
      ]
    },
    {
      "cell_type": "code",
      "source": [
        "'''23. A company implemented an employee training program to improve job performance (Effective, Neutral,\n",
        "Ineffective). After the training, they collected data from a sample of employees and classified them based\n",
        "on their job performance before and after the training. Perform a Chi-Square test to determine if there is a\n",
        "significant difference between job performance levels before and after the training\n",
        "'''\n",
        "# Sample data: Job performance levels before (rows) and after (columns) training\n",
        "data = np.array([[50, 30, 20], [30, 40, 30], [20, 30, 40]])\n",
        "\n",
        "# Perform Chi-Square test\n",
        "chi2_stat, p_value, dof, expected = chi2_contingency(data)\n",
        "\n",
        "print(f\"Chi-Square Statistic: {chi2_stat:.4f}\")\n",
        "print(f\"P-Value: {p_value:.4f}\")\n",
        "print(f\"Degrees of Freedom: {dof}\")\n",
        "if p_value < 0.05:\n",
        "    print(\"There is a significant difference in job performance levels before and after training.\")\n",
        "else:\n",
        "    print(\"There is no significant difference in job performance levels before and after training.\")\n",
        "\n"
      ],
      "metadata": {
        "colab": {
          "base_uri": "https://localhost:8080/"
        },
        "id": "S2LAeFBmmBqc",
        "outputId": "e03e3ec7-b1a3-4cee-9a3a-8348faffa2f2"
      },
      "execution_count": 54,
      "outputs": [
        {
          "output_type": "stream",
          "name": "stdout",
          "text": [
            "Chi-Square Statistic: 22.1617\n",
            "P-Value: 0.0002\n",
            "Degrees of Freedom: 4\n",
            "There is a significant difference in job performance levels before and after training.\n"
          ]
        }
      ]
    },
    {
      "cell_type": "code",
      "source": [
        "'''24. A company produces three different versions of a product: Standard, Premium, and Deluxe. The\n",
        "company wants to determine if there is a significant difference in customer satisfaction scores among the\n",
        "three product versions. They conducted a survey and collected customer satisfaction scores for each\n",
        "version from a random sample of customers. Perform an ANOVA test to determine if there is a significant\n",
        "difference in customer satisfaction scores'''\n",
        "from scipy.stats import f_oneway\n",
        "\n",
        "# Data\n",
        "standard_scores = [80, 85, 90, 78, 88, 82, 92, 78, 85, 87]\n",
        "premium_scores = [90, 92, 88, 92, 95, 91, 96, 93, 89, 93]\n",
        "deluxe_scores = [95, 98, 92, 97, 96, 94, 98, 97, 92, 99]\n",
        "\n",
        "# Perform ANOVA test\n",
        "f_stat, p_value = f_oneway(standard_scores, premium_scores, deluxe_scores)\n",
        "\n",
        "print(f\"F-Statistic: {f_stat:.4f}\")\n",
        "print(f\"P-Value: {p_value:.4f}\")\n",
        "if p_value < 0.05:\n",
        "    print(\"There is a significant difference in customer satisfaction scores among the product versions.\")\n",
        "else:\n",
        "    print(\"There is no significant difference in customer satisfaction scores among the product versions.\")\n"
      ],
      "metadata": {
        "colab": {
          "base_uri": "https://localhost:8080/"
        },
        "id": "4jYrNHRtmBdy",
        "outputId": "c379a93d-e57a-4fb4-c038-5d2e4b22bab2"
      },
      "execution_count": 55,
      "outputs": [
        {
          "output_type": "stream",
          "name": "stdout",
          "text": [
            "F-Statistic: 27.0356\n",
            "P-Value: 0.0000\n",
            "There is a significant difference in customer satisfaction scores among the product versions.\n"
          ]
        }
      ]
    }
  ]
}